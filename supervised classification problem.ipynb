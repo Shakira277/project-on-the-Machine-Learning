{
 "cells": [
  {
   "cell_type": "code",
   "execution_count": 1,
   "id": "58af561f-c06f-49da-b855-994ed14f508a",
   "metadata": {},
   "outputs": [],
   "source": [
    "# import numerical python\n",
    "import numpy as np\n",
    "\n",
    "# import the pandas\n",
    "import pandas as pd\n",
    "\n",
    "# import the seaborn\n",
    "import seaborn as sns\n",
    "\n",
    "# import the matplotlib\n",
    "import matplotlib.pyplot as plt\n",
    "\n",
    "# Load the data\n",
    "df_house_price=pd.read_csv('House_Price1.csv')"
   ]
  },
  {
   "cell_type": "code",
   "execution_count": 2,
   "id": "cd840d9c-5818-422b-89da-6422c29ce61a",
   "metadata": {},
   "outputs": [],
   "source": [
    "dictionary={\n",
    "    'price':'Price',\n",
    "    'resid_area':'Residential_Area',\n",
    "    'air_qual':'Air_Quality',\n",
    "    'room_num':'Room_Number',\n",
    "    'age':'Age',\n",
    "    'distance':'Distance',\n",
    "    'teachers':'Teachers',\n",
    "    'poor_prop':'Poor_Property',\n",
    "    'airport':'Airport',\n",
    "    'n_hos_beds':'N_Hospital_Beds',\n",
    "    'n_hot_rooms':'N_Hotel_Rooms',\n",
    "    'waterbody':'Waterbody',\n",
    "    'rainfall':'Rainfall',\n",
    "    'bus_ter':'Bus_Ter',\n",
    "    'Sold':'Sold'\n",
    "}"
   ]
  },
  {
   "cell_type": "code",
   "execution_count": 3,
   "id": "b685806e-86df-42ae-a58a-46608ceb42b1",
   "metadata": {},
   "outputs": [],
   "source": [
    "# perform the rename action\n",
    "df_house_price = df_house_price.rename(columns=dictionary)"
   ]
  },
  {
   "cell_type": "code",
   "execution_count": 4,
   "id": "67e447ff-52a7-47ea-9c3a-b48587d31766",
   "metadata": {},
   "outputs": [
    {
     "name": "stderr",
     "output_type": "stream",
     "text": [
      "C:\\Users\\ahame\\AppData\\Local\\Temp\\ipykernel_4064\\652970064.py:2: FutureWarning: A value is trying to be set on a copy of a DataFrame or Series through chained assignment using an inplace method.\n",
      "The behavior will change in pandas 3.0. This inplace method will never work because the intermediate object on which we are setting values always behaves as a copy.\n",
      "\n",
      "For example, when doing 'df[col].method(value, inplace=True)', try using 'df.method({col: value}, inplace=True)' or df[col] = df[col].method(value) instead, to perform the operation inplace on the original object.\n",
      "\n",
      "\n",
      "  df_house_price.Waterbody.fillna('River',inplace = True)\n"
     ]
    }
   ],
   "source": [
    "# lets treat the null values in waterbody column\n",
    "df_house_price.Waterbody.fillna('River',inplace = True)"
   ]
  },
  {
   "cell_type": "code",
   "execution_count": 5,
   "id": "81b80e8a-869b-49e6-8214-3b9c242ffd49",
   "metadata": {},
   "outputs": [],
   "source": [
    "# In N_Hospital_Beds, we have less than 10% of data is missing\n",
    "df_house_price.dropna(inplace=True)"
   ]
  },
  {
   "cell_type": "code",
   "execution_count": 6,
   "id": "86e85af0-7d16-4447-abc3-dafff8f9bcf0",
   "metadata": {},
   "outputs": [],
   "source": [
    "df_target = df_house_price['Sold']"
   ]
  },
  {
   "cell_type": "code",
   "execution_count": 7,
   "id": "26f7a95b-e8be-4f0c-b064-a9d4be30eb42",
   "metadata": {},
   "outputs": [],
   "source": [
    "df_feature = df_house_price.drop('Sold', axis = 1)"
   ]
  },
  {
   "cell_type": "code",
   "execution_count": 8,
   "id": "8dfc4c71-489c-4ed5-b464-51d97f0bcf79",
   "metadata": {},
   "outputs": [],
   "source": [
    "# Segregate the data based on the datatype\n",
    "df_num = df_house_price.select_dtypes(include='number')\n",
    "df_cat = df_house_price.select_dtypes(include='object')"
   ]
  },
  {
   "cell_type": "code",
   "execution_count": 9,
   "id": "e79c3e8f-2d53-4bdd-9cec-fdc026b64d22",
   "metadata": {},
   "outputs": [],
   "source": [
    "# Use Dummy encoding\n",
    "df_encoded = pd.get_dummies(df_cat)\n",
    "# Reset the index\n",
    "df_encoded = df_encoded.reset_index()"
   ]
  },
  {
   "cell_type": "code",
   "execution_count": 10,
   "id": "9d03e5ba-ae0d-42b8-ad96-9e779a7fa292",
   "metadata": {},
   "outputs": [],
   "source": [
    "# import the standard scaler\n",
    "from sklearn.preprocessing import StandardScaler\n",
    "\n",
    "# initiate the standard scaler\n",
    "ss = StandardScaler()"
   ]
  },
  {
   "cell_type": "code",
   "execution_count": 11,
   "id": "d4dc26b3-9560-4652-9f09-03921c1027c8",
   "metadata": {},
   "outputs": [],
   "source": [
    "# Scaled the value present in Numerical dataframe\n",
    "scaled = ss.fit_transform(df_num)"
   ]
  },
  {
   "cell_type": "code",
   "execution_count": 12,
   "id": "eb74f081-253d-4ac2-8d96-f4adc4a998e7",
   "metadata": {},
   "outputs": [],
   "source": [
    "# Numerate the data into the dataframe\n",
    "scaled_df = pd.DataFrame(scaled,columns=df_num.columns)"
   ]
  },
  {
   "cell_type": "code",
   "execution_count": 13,
   "id": "bdd180f8-8d7c-4dac-9a78-9e643dab71da",
   "metadata": {},
   "outputs": [],
   "source": [
    "# Reset the Index \n",
    "scaled_df = scaled_df.reset_index()"
   ]
  },
  {
   "cell_type": "code",
   "execution_count": 14,
   "id": "4cc589ad-15b3-4c37-a9bc-34ad9b3fe6b5",
   "metadata": {},
   "outputs": [],
   "source": [
    "# concat encoded variable and scaled variable\n",
    "df_independent = pd.concat([df_encoded,scaled_df],axis=1)"
   ]
  },
  {
   "cell_type": "code",
   "execution_count": 15,
   "id": "a3bae08d-0868-456b-8fb2-d4428ebe1b39",
   "metadata": {},
   "outputs": [],
   "source": [
    "# import the train test split\n",
    "from sklearn.model_selection import train_test_split\n"
   ]
  },
  {
   "cell_type": "code",
   "execution_count": 30,
   "id": "02d03fbd-6fe1-4c96-8ed6-f46012ca5743",
   "metadata": {
    "jp-MarkdownHeadingCollapsed": true
   },
   "outputs": [],
   "source": [
    "# split the data \n",
    "x_train,x_test,y_train,y_test=train_test_split(df_independent,\n",
    "                                              df_target,\n",
    "                                              test_size=0.2)"
   ]
  },
  {
   "cell_type": "markdown",
   "id": "9f2c2658-1873-4585-b8d9-4ed27368222e",
   "metadata": {},
   "source": [
    "# decision tree classifier"
   ]
  },
  {
   "cell_type": "code",
   "execution_count": 38,
   "id": "8274b735-3382-403d-832b-ea3aa5a226a6",
   "metadata": {},
   "outputs": [
    {
     "name": "stdout",
     "output_type": "stream",
     "text": [
      "              precision    recall  f1-score   support\n",
      "\n",
      "           0       1.00      1.00      1.00        54\n",
      "           1       1.00      1.00      1.00        46\n",
      "\n",
      "    accuracy                           1.00       100\n",
      "   macro avg       1.00      1.00      1.00       100\n",
      "weighted avg       1.00      1.00      1.00       100\n",
      "\n"
     ]
    }
   ],
   "source": [
    "from sklearn.tree import DecisionTreeClassifier\n",
    "from sklearn.metrics import classification_report\n",
    "\n",
    "# create a decision tree classifer\n",
    "tree_model=DecisionTreeClassifier()\n",
    "\n",
    "# fit the model to the traning data\n",
    "tree_model.fit(x_train,y_train)\n",
    "\n",
    "#predit on the testing data\n",
    "predicition =tree_model.predict(x_test)\n",
    "\n",
    "\n",
    "# calculate classification_report\n",
    "class_report=classification_report(y_test,predicition)\n",
    "print(class_report)"
   ]
  },
  {
   "cell_type": "code",
   "execution_count": null,
   "id": "3fd907c6-45fa-4911-bd3e-6a8a5b9e6f1f",
   "metadata": {},
   "outputs": [],
   "source": []
  },
  {
   "cell_type": "code",
   "execution_count": null,
   "id": "fdfe1d42-075f-42e5-85a6-e666d7bbdf7a",
   "metadata": {},
   "outputs": [],
   "source": []
  }
 ],
 "metadata": {
  "kernelspec": {
   "display_name": "Python 3 (ipykernel)",
   "language": "python",
   "name": "python3"
  },
  "language_info": {
   "codemirror_mode": {
    "name": "ipython",
    "version": 3
   },
   "file_extension": ".py",
   "mimetype": "text/x-python",
   "name": "python",
   "nbconvert_exporter": "python",
   "pygments_lexer": "ipython3",
   "version": "3.12.4"
  }
 },
 "nbformat": 4,
 "nbformat_minor": 5
}
