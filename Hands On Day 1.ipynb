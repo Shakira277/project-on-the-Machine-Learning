{
 "cells": [
  {
   "cell_type": "code",
   "execution_count": 1,
   "id": "e2fae27e-43b4-4f20-a92b-8e762b768005",
   "metadata": {},
   "outputs": [],
   "source": [
    "# declare a variable\n",
    "# variable are the containers used to store any datatypes \n",
    "X=10"
   ]
  },
  {
   "cell_type": "code",
   "execution_count": 2,
   "id": "452e56e2-40a9-4872-8b5d-f12ab68b6033",
   "metadata": {},
   "outputs": [
    {
     "name": "stdout",
     "output_type": "stream",
     "text": [
      "10\n"
     ]
    }
   ],
   "source": [
    "# print the variable\n",
    "print(X)"
   ]
  },
  {
   "cell_type": "code",
   "execution_count": 3,
   "id": "1411e2e6-e29e-4a96-b193-7073ff5abfdf",
   "metadata": {},
   "outputs": [
    {
     "data": {
      "text/plain": [
       "int"
      ]
     },
     "execution_count": 3,
     "metadata": {},
     "output_type": "execute_result"
    }
   ],
   "source": [
    "# check the datatype of the variable\n",
    "type(X)\n"
   ]
  },
  {
   "cell_type": "code",
   "execution_count": 1,
   "id": "1f343665-fc35-4055-8d67-5346eb48f808",
   "metadata": {},
   "outputs": [
    {
     "name": "stdout",
     "output_type": "stream",
     "text": [
      "datatype of the variable <class 'int'>\n"
     ]
    }
   ],
   "source": [
    "# create an interger data type\n",
    "int_1=20\n",
    "\n",
    "# show the data types\n",
    "print('datatype of the variable',type(int_1))"
   ]
  },
  {
   "cell_type": "code",
   "execution_count": 9,
   "id": "aa64fca9-7ff1-4ee4-9d0c-ef4c3c43e7ea",
   "metadata": {},
   "outputs": [
    {
     "name": "stdout",
     "output_type": "stream",
     "text": [
      "datatype of variable <class 'float'>\n"
     ]
    }
   ],
   "source": [
    "# create an float datatype\n",
    "float_1=20.38\n",
    "\n",
    "# show the datatype\n",
    "print('datatype of variable',type(float_1))"
   ]
  },
  {
   "cell_type": "code",
   "execution_count": 13,
   "id": "c29de1d5-45b2-43c5-9890-9d6c4360c764",
   "metadata": {},
   "outputs": [
    {
     "name": "stdout",
     "output_type": "stream",
     "text": [
      "datatype of variable <class 'str'>\n"
     ]
    }
   ],
   "source": [
    "# create string datatypes\n",
    "string_1='Gobal'\n",
    "# show the datatype\n",
    "print('datatype of variable',type(string_1))"
   ]
  },
  {
   "cell_type": "code",
   "execution_count": 15,
   "id": "b244b7a3-1d80-4659-a6d7-97539c6c584f",
   "metadata": {},
   "outputs": [
    {
     "name": "stdout",
     "output_type": "stream",
     "text": [
      "datatype of variable <class 'list'>\n",
      "datatype of variable <class 'list'>\n",
      "datatype of variable <class 'list'>\n"
     ]
    }
   ],
   "source": [
    "# create and list datatypes\n",
    "list_1=[10,20,30,40]\n",
    "list_2=[10,30,20,46,30,39,40.68]\n",
    "list_3=['Gopal','Nirmal','Nandhini','Pooja']\n",
    "\n",
    "# show the datatype\n",
    "print('datatype of variable',type(list_1))\n",
    "print('datatype of variable',type(list_2))\n",
    "print('datatype of variable',type(list_3))\n"
   ]
  },
  {
   "cell_type": "code",
   "execution_count": 19,
   "id": "aa84f69e-2ff8-4b08-8239-c334f8107f3c",
   "metadata": {
    "scrolled": true
   },
   "outputs": [
    {
     "name": "stdout",
     "output_type": "stream",
     "text": [
      "datatype of variable <class 'tuple'>\n",
      "datatype of variable <class 'tuple'>\n",
      "datatype of variable <class 'tuple'>\n"
     ]
    }
   ],
   "source": [
    "# create and tuple datatypes\n",
    "tuple_1=(10,20,30,40)\n",
    "tuple_2=(10,30,20,46,30,39,40.68)\n",
    "tuple_3=('Gopal','Nirmal','Nandhini','Pooja')\n",
    "\n",
    "# show the datatype\n",
    "print('datatype of variable',type(tuple_1))\n",
    "print('datatype of variable',type(tuple_2))\n",
    "print('datatype of variable',type(tuple_3))\n"
   ]
  },
  {
   "cell_type": "code",
   "execution_count": 21,
   "id": "4de06dae-50c9-4664-97e1-0e4d3ec62ed6",
   "metadata": {},
   "outputs": [
    {
     "name": "stdout",
     "output_type": "stream",
     "text": [
      "datatype of variable <class 'set'>\n",
      "datatype of variable <class 'set'>\n",
      "datatype of variable <class 'set'>\n"
     ]
    }
   ],
   "source": [
    "# create an set datatypes\n",
    "set_1={10,20,30,40}\n",
    "set_2={10,30,20,46,30,39,40.68}\n",
    "set_3={'Gopal','Nirmal','Nandhini','Pooja'}\n",
    "\n",
    "# show the datatype\n",
    "print('datatype of variable',type(set_1))\n",
    "print('datatype of variable',type(set_2))\n",
    "print('datatype of variable',type(set_3))"
   ]
  },
  {
   "cell_type": "code",
   "execution_count": 23,
   "id": "698aec41-6ba7-442e-a5f4-a13fc6f68151",
   "metadata": {},
   "outputs": [
    {
     "name": "stdout",
     "output_type": "stream",
     "text": [
      "datatype of variable <class 'bool'>\n",
      "datatype of variable <class 'bool'>\n"
     ]
    }
   ],
   "source": [
    "# create an boolean datatype\n",
    "boolean_1=True\n",
    "boolean_2=False\n",
    "# show the datatypes\n",
    "print('datatype of variable',type(boolean_1))\n",
    "print('datatype of variable',type(boolean_2))\n"
   ]
  },
  {
   "cell_type": "code",
   "execution_count": 32,
   "id": "ee0c23fd-606e-4255-af74-63afe1aee51c",
   "metadata": {},
   "outputs": [
    {
     "name": "stdout",
     "output_type": "stream",
     "text": [
      "datatypes of the variable <class 'dict'>\n"
     ]
    }
   ],
   "source": [
    "# create the dicitory datatypes\n",
    "dicitory_1={'list_1':[10,20,30,40],\n",
    "'tuple_1':(10,20,30,40),\n",
    "'set_1':{10,20,30,40}}\n",
    "# show the data type \n",
    "print('datatypes of the variable',type(dicitory_1))"
   ]
  },
  {
   "cell_type": "markdown",
   "id": "69f32edc-4d68-475e-ba23-b468452e2070",
   "metadata": {},
   "source": [
    "# basic operation \n"
   ]
  },
  {
   "cell_type": "code",
   "execution_count": 5,
   "id": "2375ecbb-9089-4f89-900f-19884b653a12",
   "metadata": {},
   "outputs": [
    {
     "name": "stdout",
     "output_type": "stream",
     "text": [
      "datatype of the varaiable <class 'float'>\n",
      "datatypes of the variable <class 'int'>\n"
     ]
    }
   ],
   "source": [
    "# Task 1:Type casting\n",
    "float_2 = 45.96\n",
    "\n",
    "#show the datatype\n",
    "print('datatype of the varaiable',type(float_2))\n",
    "\n",
    "#typecasting\n",
    "int_2 = int(float_2)\n",
    "\n",
    "#show the datatypes\n",
    "print('datatypes of the variable',type(int_2))\n"
   ]
  },
  {
   "cell_type": "code",
   "execution_count": 7,
   "id": "7f5edceb-5b86-4dc6-bba7-99ec996e0738",
   "metadata": {},
   "outputs": [
    {
     "name": "stdout",
     "output_type": "stream",
     "text": [
      "datatype of the varaiable <class 'int'>\n",
      "datatypes of the variable <class 'int'>\n"
     ]
    }
   ],
   "source": [
    "#typecasting\n",
    "int_3= 5\n",
    "\n",
    "#show the datatype\n",
    "print('datatype of the varaiable',type(int_3))\n",
    "\n",
    "#typecasting\n",
    "float_3= int(int_3)\n",
    "\n",
    "#show the datatypes\n",
    "print('datatypes of the variable',type(float_3))\n"
   ]
  },
  {
   "cell_type": "code",
   "execution_count": 9,
   "id": "8c654271-1122-4e3d-a3de-83405adf8fd5",
   "metadata": {},
   "outputs": [
    {
     "name": "stdout",
     "output_type": "stream",
     "text": [
      "rounded values are: 10.123\n"
     ]
    }
   ],
   "source": [
    "#  Task 2:use of round function\n",
    "float_4=10.1234567890\n",
    "\n",
    "#round this value till 3 decimal places \n",
    "rounded_value = round(float_4,3)\n",
    "\n",
    "#show the output\n",
    "print('rounded values are:',rounded_value)"
   ]
  },
  {
   "cell_type": "markdown",
   "id": "317fb080-d972-4aee-bff1-7fe0c9629625",
   "metadata": {},
   "source": [
    "# Arethemetic operation"
   ]
  },
  {
   "cell_type": "code",
   "execution_count": 6,
   "id": "b0eb41be-1cea-4131-8198-7b6aefbc2091",
   "metadata": {},
   "outputs": [
    {
     "name": "stdout",
     "output_type": "stream",
     "text": [
      "addition of two variable: 30\n"
     ]
    }
   ],
   "source": [
    "# addition operation\n",
    "# declare the variable\n",
    "a=10\n",
    "b=20\n",
    "\n",
    "# perform the sum\n",
    "sum_1=a+b\n",
    "\n",
    "# show the output\n",
    "print('addition of two variable:',sum_1)\n"
   ]
  },
  {
   "cell_type": "code",
   "execution_count": 14,
   "id": "ca6b7ddd-42c3-487e-a640-355c033b3512",
   "metadata": {},
   "outputs": [
    {
     "name": "stdout",
     "output_type": "stream",
     "text": [
      "subraction of two variable: -10\n"
     ]
    }
   ],
   "source": [
    "# subraction operation\n",
    "# declare the variable\n",
    "a=10\n",
    "b=20\n",
    "\n",
    "# perform the sum\n",
    "sub_1=a-b\n",
    "\n",
    "# show the output\n",
    "print('subraction of two variable:',sub_1)"
   ]
  },
  {
   "cell_type": "code",
   "execution_count": 18,
   "id": "7fcc874c-364c-4412-b709-034dc1f97d7b",
   "metadata": {},
   "outputs": [
    {
     "name": "stdout",
     "output_type": "stream",
     "text": [
      "multipulation of two variable: 200\n"
     ]
    }
   ],
   "source": [
    "\n",
    "# multipulation operation\n",
    "# declare the variable\n",
    "a=10\n",
    "b=20\n",
    "\n",
    "# perform the sum\n",
    "sub_1=a*b\n",
    "\n",
    "# show the output\n",
    "print('multipulation of two variable:',mul_1)\n",
    "\n"
   ]
  },
  {
   "cell_type": "code",
   "execution_count": 22,
   "id": "7b1d0940-acf8-4d28-bdfa-a017e9950d1e",
   "metadata": {},
   "outputs": [
    {
     "name": "stdout",
     "output_type": "stream",
     "text": [
      "divison of two variable: 0.5\n"
     ]
    }
   ],
   "source": [
    "# division operation\n",
    "# declare the variable\n",
    "a=10\n",
    "b=20\n",
    "\n",
    "# perform the div\n",
    "div_1=a/b\n",
    "\n",
    "# show the output\n",
    "print('divison of two variable:',div_1)"
   ]
  },
  {
   "cell_type": "code",
   "execution_count": 20,
   "id": "7d00a77b-761a-4c4d-8629-1951b6fa8604",
   "metadata": {},
   "outputs": [
    {
     "data": {
      "text/plain": [
       "30"
      ]
     },
     "execution_count": 20,
     "metadata": {},
     "output_type": "execute_result"
    }
   ],
   "source": [
    "#declare the function named as'summation',who can perform the addition in two number \n",
    "def summation():\n",
    "    x=10\n",
    "    y=20\n",
    "    summation=x+y\n",
    "    return summation\n",
    "#call the function\n",
    "summation()"
   ]
  },
  {
   "cell_type": "code",
   "execution_count": 24,
   "id": "093071ee-7279-4da1-8a4c-2703269f0e69",
   "metadata": {},
   "outputs": [
    {
     "data": {
      "text/plain": [
       "-10"
      ]
     },
     "execution_count": 24,
     "metadata": {},
     "output_type": "execute_result"
    }
   ],
   "source": [
    "#declare the function named as 'substraction',\n",
    "#who can perform this substraction between two variable \n",
    "def subraction (x,y):\n",
    "    subraction=x-y\n",
    "    return subraction \n",
    "#call the function\n",
    "subraction(10,20)"
   ]
  },
  {
   "cell_type": "code",
   "execution_count": 26,
   "id": "2f0ac5c4-620b-462d-9a46-edd372beea8a",
   "metadata": {},
   "outputs": [
    {
     "name": "stdin",
     "output_type": "stream",
     "text": [
      "Give the first number: 10\n",
      "Give the second number: 20\n"
     ]
    },
    {
     "data": {
      "text/plain": [
       "200"
      ]
     },
     "execution_count": 26,
     "metadata": {},
     "output_type": "execute_result"
    }
   ],
   "source": [
    "# declare the function named as multipulcation,\n",
    "#who can perform this substraction between two variable\n",
    "#this time you need to take input from the user\n",
    "\n",
    "#take the input from the user\n",
    "var_2=int(input('Give the first number:'))\n",
    "var_3=int(input('Give the second number:'))\n",
    "\n",
    "#make the user defined function\n",
    "def multipulation(var_2,var_3):\n",
    "    mul=var_2*var_3\n",
    "    return mul\n",
    "#call the function\n",
    "multipulation(var_2,var_3)"
   ]
  },
  {
   "cell_type": "code",
   "execution_count": null,
   "id": "cbbdeae0-374d-44b2-94d7-e53b6d6b1101",
   "metadata": {},
   "outputs": [],
   "source": []
  }
 ],
 "metadata": {
  "kernelspec": {
   "display_name": "Python 3 (ipykernel)",
   "language": "python",
   "name": "python3"
  },
  "language_info": {
   "codemirror_mode": {
    "name": "ipython",
    "version": 3
   },
   "file_extension": ".py",
   "mimetype": "text/x-python",
   "name": "python",
   "nbconvert_exporter": "python",
   "pygments_lexer": "ipython3",
   "version": "3.12.4"
  }
 },
 "nbformat": 4,
 "nbformat_minor": 5
}
